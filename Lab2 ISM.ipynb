{
 "cells": [
  {
   "cell_type": "markdown",
   "id": "528fed02",
   "metadata": {},
   "source": [
    "# Частина 1"
   ]
  },
  {
   "cell_type": "code",
   "execution_count": 40,
   "id": "a9300d8f",
   "metadata": {},
   "outputs": [],
   "source": [
    "import numpy as np"
   ]
  },
  {
   "cell_type": "code",
   "execution_count": 41,
   "id": "6f12aa1c",
   "metadata": {},
   "outputs": [],
   "source": [
    "def task_1(n):\n",
    "    arr = np.array([x + 1 for x in range(n)])\n",
    "    return np.diag(arr)\n",
    "\n",
    "def task_1_py(n):\n",
    "    arr = [\n",
    "        [i + 1 if i == j else 0 for i in range(n)]\n",
    "        for j in range(n)\n",
    "    ]\n",
    "    return arr"
   ]
  },
  {
   "cell_type": "code",
   "execution_count": 45,
   "id": "b69b7a15",
   "metadata": {},
   "outputs": [
    {
     "name": "stdout",
     "output_type": "stream",
     "text": [
      "11.2 µs ± 761 ns per loop (mean ± std. dev. of 7 runs, 100 loops each)\n",
      "26.6 µs ± 1.87 µs per loop (mean ± std. dev. of 7 runs, 100 loops each)\n"
     ]
    }
   ],
   "source": [
    "%timeit -n 100 task_1(10)\n",
    "%timeit -n 100 task_1_py(10)"
   ]
  },
  {
   "cell_type": "code",
   "execution_count": 46,
   "id": "0c4173fb",
   "metadata": {},
   "outputs": [
    {
     "name": "stdout",
     "output_type": "stream",
     "text": [
      "45.8 µs ± 4.02 µs per loop (mean ± std. dev. of 7 runs, 100 loops each)\n",
      "1.75 ms ± 68 µs per loop (mean ± std. dev. of 7 runs, 100 loops each)\n"
     ]
    }
   ],
   "source": [
    "%timeit -n 100 task_1(100)\n",
    "%timeit -n 100 task_1_py(100)"
   ]
  },
  {
   "cell_type": "code",
   "execution_count": 47,
   "id": "a89e1a73",
   "metadata": {},
   "outputs": [],
   "source": [
    "def task_3(n, m, r, c):\n",
    "    arr = np.ones((n, m))\n",
    "    for i in range(n):\n",
    "        for j in range(m):\n",
    "            arr[i][j] = 1 if (i % r != 0 and j % c != 0) else 0\n",
    "    return arr\n",
    "\n",
    "def task_3_py(n, m, r, c):\n",
    "    a = [\n",
    "        [0 if j % r == 0 or i % c == 0 else 1 for i in range(m)]\n",
    "        for j in range(n)\n",
    "    ]\n",
    "    return a"
   ]
  },
  {
   "cell_type": "code",
   "execution_count": 48,
   "id": "8fc6e9e3",
   "metadata": {},
   "outputs": [
    {
     "name": "stdout",
     "output_type": "stream",
     "text": [
      "54.1 µs ± 12.7 µs per loop (mean ± std. dev. of 7 runs, 100 loops each)\n",
      "21.4 µs ± 2.44 µs per loop (mean ± std. dev. of 7 runs, 100 loops each)\n"
     ]
    }
   ],
   "source": [
    "%timeit -n 100 task_3(6,7,2,3)\n",
    "%timeit -n 100 task_3_py(6,7,2,3)"
   ]
  },
  {
   "cell_type": "code",
   "execution_count": 49,
   "id": "387b8194",
   "metadata": {},
   "outputs": [
    {
     "name": "stdout",
     "output_type": "stream",
     "text": [
      "469 µs ± 15.1 µs per loop (mean ± std. dev. of 7 runs, 100 loops each)\n",
      "186 µs ± 3.15 µs per loop (mean ± std. dev. of 7 runs, 100 loops each)\n"
     ]
    }
   ],
   "source": [
    "%timeit -n 100 task_3(20,30,2,3)\n",
    "%timeit -n 100 task_3_py(20,30,2,3)"
   ]
  },
  {
   "cell_type": "code",
   "execution_count": 50,
   "id": "1c9b7170",
   "metadata": {},
   "outputs": [],
   "source": [
    "def task_4(n, m):\n",
    "    arr = np.zeros((n, m))\n",
    "    arr[0] = np.arange(0, m, 1)\n",
    "    return arr\n",
    "\n",
    "def task_4_py(n, m):\n",
    "    arr = [\n",
    "        [i if j == 0 else 0 for i in range(m)]\n",
    "        for j in range(n)\n",
    "    ]\n",
    "    return arr"
   ]
  },
  {
   "cell_type": "code",
   "execution_count": 53,
   "id": "64e3437a",
   "metadata": {},
   "outputs": [
    {
     "name": "stdout",
     "output_type": "stream",
     "text": [
      "8.91 µs ± 5.82 µs per loop (mean ± std. dev. of 7 runs, 100 loops each)\n",
      "12.7 µs ± 159 ns per loop (mean ± std. dev. of 7 runs, 100 loops each)\n"
     ]
    }
   ],
   "source": [
    "%timeit -n 100 task_4(6,7)\n",
    "%timeit -n 100 task_4_py(6,7)"
   ]
  },
  {
   "cell_type": "code",
   "execution_count": 54,
   "id": "13976cfd",
   "metadata": {},
   "outputs": [
    {
     "name": "stdout",
     "output_type": "stream",
     "text": [
      "5.51 µs ± 1.94 µs per loop (mean ± std. dev. of 7 runs, 100 loops each)\n",
      "112 µs ± 11 µs per loop (mean ± std. dev. of 7 runs, 100 loops each)\n"
     ]
    }
   ],
   "source": [
    "%timeit -n 100 task_4(20,30)\n",
    "%timeit -n 100 task_4_py(20,30)"
   ]
  },
  {
   "cell_type": "code",
   "execution_count": 55,
   "id": "1a6d1635",
   "metadata": {},
   "outputs": [],
   "source": [
    "def task_6(a):\n",
    "    r = np.array(a)\n",
    "    r[r > 0] = -1\n",
    "    return r\n",
    "\n",
    "def task_6_py(a):\n",
    "    r = [-1 if i > 0 else 0 for i in a]\n",
    "    return r\n",
    "\n",
    "arr = [3, 4, 0, 9, 7, 0, 6, 0, 4, 0, 3]"
   ]
  },
  {
   "cell_type": "code",
   "execution_count": 56,
   "id": "000abc5e",
   "metadata": {},
   "outputs": [
    {
     "name": "stdout",
     "output_type": "stream",
     "text": [
      "8.36 µs ± 684 ns per loop (mean ± std. dev. of 7 runs, 100 loops each)\n"
     ]
    }
   ],
   "source": [
    "%timeit -n 100 task_6(arr)"
   ]
  },
  {
   "cell_type": "code",
   "execution_count": 57,
   "id": "027eaf69",
   "metadata": {},
   "outputs": [
    {
     "name": "stdout",
     "output_type": "stream",
     "text": [
      "3.28 µs ± 1.66 µs per loop (mean ± std. dev. of 7 runs, 100 loops each)\n"
     ]
    }
   ],
   "source": [
    "%timeit -n 100 task_6_py(arr)"
   ]
  },
  {
   "cell_type": "code",
   "execution_count": 58,
   "id": "ea622875",
   "metadata": {},
   "outputs": [],
   "source": [
    "def task_10(n, m, out=True):\n",
    "    arr = np.random.rand(n, m)\n",
    "    \n",
    "    if out:\n",
    "        print('Мінімум:', round(arr.min(), 3))\n",
    "        print('Максимум:', round(arr.max(), 3))\n",
    "        print('Середнє:', round(arr.mean(), 3))\n",
    "        print('Дисперсія:', round(arr.var(), 3))\n",
    "    \n",
    "def task_10_py(n, m, out=True):\n",
    "    arr = [[np.random.random() for j in range(m)] for i in range(n)]\n",
    "    flat_arr = [val for sublist in arr for val in sublist]\n",
    "    avg = sum(flat_arr) / len(flat_arr)\n",
    "    std_dev = (sum([(val - avg)**2 for val in flat_arr]) / len(flat_arr))**0.5\n",
    "\n",
    "    if out:\n",
    "        print('Мінімум:', round(min(flat_arr), 3))\n",
    "        print('Максимум:', round(max(flat_arr), 3))\n",
    "        print('Середнє:', round(avg, 3))\n",
    "        print('Дисперсія:', round(std_dev, 3))"
   ]
  },
  {
   "cell_type": "code",
   "execution_count": 59,
   "id": "16c2e844",
   "metadata": {},
   "outputs": [
    {
     "name": "stdout",
     "output_type": "stream",
     "text": [
      "The slowest run took 7.11 times longer than the fastest. This could mean that an intermediate result is being cached.\n",
      "5.24 µs ± 5.02 µs per loop (mean ± std. dev. of 7 runs, 100 loops each)\n"
     ]
    }
   ],
   "source": [
    "%timeit -n 100 task_10(4, 5, False)"
   ]
  },
  {
   "cell_type": "code",
   "execution_count": 60,
   "id": "a2670707",
   "metadata": {},
   "outputs": [
    {
     "name": "stdout",
     "output_type": "stream",
     "text": [
      "36.6 µs ± 2.79 µs per loop (mean ± std. dev. of 7 runs, 100 loops each)\n"
     ]
    }
   ],
   "source": [
    "%timeit -n 100 task_10_py(4, 5, False)"
   ]
  },
  {
   "cell_type": "code",
   "execution_count": 61,
   "id": "ff175128",
   "metadata": {},
   "outputs": [],
   "source": [
    "def task_12(n):\n",
    "    a = np.ones((n,n), dtype=int)\n",
    "    a[[0, -1], :] = 0\n",
    "    a[:, [0, -1]] = 0\n",
    "    return a\n",
    "\n",
    "def task_12_py(n) :\n",
    "    a = [[1 for j in range(n)] for i in range(n)]\n",
    "    \n",
    "    for i in range(n):\n",
    "        for j in range(n):\n",
    "            if i == 0 or i == n-1 or j == 0 or j == n-1:\n",
    "                a[i][j] = 0\n",
    "    return a"
   ]
  },
  {
   "cell_type": "code",
   "execution_count": 62,
   "id": "c76eb59f",
   "metadata": {},
   "outputs": [
    {
     "name": "stdout",
     "output_type": "stream",
     "text": [
      "34.9 µs ± 13.4 µs per loop (mean ± std. dev. of 7 runs, 100 loops each)\n"
     ]
    }
   ],
   "source": [
    "%timeit -n 100 task_12(5)"
   ]
  },
  {
   "cell_type": "code",
   "execution_count": 63,
   "id": "d92ade71",
   "metadata": {},
   "outputs": [
    {
     "name": "stdout",
     "output_type": "stream",
     "text": [
      "21 µs ± 1.34 µs per loop (mean ± std. dev. of 7 runs, 100 loops each)\n"
     ]
    }
   ],
   "source": [
    "%timeit -n 100 task_12_py(5)"
   ]
  },
  {
   "cell_type": "code",
   "execution_count": 64,
   "id": "51992c10",
   "metadata": {},
   "outputs": [],
   "source": [
    "def task_15(n):\n",
    "    a = np.zeros((n, n), dtype=int)\n",
    "    a[:, ::2] = 1\n",
    "    return a\n",
    "\n",
    "def task_15_py(n):\n",
    "    a = [[0 for j in range(n)] for i in range(n)]\n",
    "\n",
    "    for i in range(n):\n",
    "        for j in range(n):\n",
    "            if j % 2 == 0:\n",
    "                a[i][j] = 1\n",
    "    return a"
   ]
  },
  {
   "cell_type": "code",
   "execution_count": 65,
   "id": "06de8e7b",
   "metadata": {},
   "outputs": [
    {
     "name": "stdout",
     "output_type": "stream",
     "text": [
      "4.3 µs ± 215 ns per loop (mean ± std. dev. of 7 runs, 100 loops each)\n"
     ]
    }
   ],
   "source": [
    "%timeit -n 100 task_15(5)"
   ]
  },
  {
   "cell_type": "code",
   "execution_count": 66,
   "id": "1bb1f377",
   "metadata": {},
   "outputs": [
    {
     "name": "stdout",
     "output_type": "stream",
     "text": [
      "17.8 µs ± 1.76 µs per loop (mean ± std. dev. of 7 runs, 100 loops each)\n"
     ]
    }
   ],
   "source": [
    "%timeit -n 100 task_15_py(5)"
   ]
  },
  {
   "cell_type": "code",
   "execution_count": 67,
   "id": "45905972",
   "metadata": {},
   "outputs": [],
   "source": [
    "def task_17(n):\n",
    "    a = np.arange(n)\n",
    "    a[: n // 2] = -a[: n // 2]\n",
    "    a[3 * n // 4 :] = -a[3 * n // 4 :]\n",
    "    return a\n",
    "\n",
    "def task_17_py(n):\n",
    "    a = list(range(n))\n",
    "    for i in range(n):\n",
    "        if i < n / 2 or i >= 3 * n / 4:\n",
    "            a[i] = -a[i]\n",
    "    return a"
   ]
  },
  {
   "cell_type": "code",
   "execution_count": 68,
   "id": "db71edef",
   "metadata": {},
   "outputs": [
    {
     "name": "stdout",
     "output_type": "stream",
     "text": [
      "10.6 µs ± 5.01 µs per loop (mean ± std. dev. of 7 runs, 100 loops each)\n"
     ]
    }
   ],
   "source": [
    "%timeit -n 100 task_17(5)"
   ]
  },
  {
   "cell_type": "code",
   "execution_count": 69,
   "id": "b23bae0d",
   "metadata": {},
   "outputs": [
    {
     "name": "stdout",
     "output_type": "stream",
     "text": [
      "4.37 µs ± 684 ns per loop (mean ± std. dev. of 7 runs, 100 loops each)\n"
     ]
    }
   ],
   "source": [
    "%timeit -n 100 task_17_py(5)"
   ]
  },
  {
   "cell_type": "code",
   "execution_count": 70,
   "id": "d6aeac4f",
   "metadata": {},
   "outputs": [
    {
     "name": "stdout",
     "output_type": "stream",
     "text": [
      "The slowest run took 4.24 times longer than the fastest. This could mean that an intermediate result is being cached.\n",
      "13.7 µs ± 8.6 µs per loop (mean ± std. dev. of 7 runs, 100 loops each)\n"
     ]
    }
   ],
   "source": [
    "%timeit -n 100 task_17(100)"
   ]
  },
  {
   "cell_type": "code",
   "execution_count": 71,
   "id": "303c7e40",
   "metadata": {},
   "outputs": [
    {
     "name": "stdout",
     "output_type": "stream",
     "text": [
      "58.4 µs ± 10 µs per loop (mean ± std. dev. of 7 runs, 100 loops each)\n"
     ]
    }
   ],
   "source": [
    "%timeit -n 100 task_17_py(100)"
   ]
  },
  {
   "cell_type": "markdown",
   "id": "d1fd89fa",
   "metadata": {},
   "source": [
    "Numpy працює повільніше для невеликих структур даних, але його ефективність стає вищою для більших"
   ]
  },
  {
   "cell_type": "code",
   "execution_count": 72,
   "id": "f095f9bc",
   "metadata": {},
   "outputs": [],
   "source": [
    "def task_18(n, out=True):\n",
    "    a = np.random.randint(0, 99, n)\n",
    "    if out:\n",
    "        print(f\"В послідовності {a} - {len(np.unique(a))} унікальних чисел\")\n",
    "    \n",
    "def task_18_py(n, out=True):\n",
    "    a = [np.random.randint(0, 99) for _ in range(n)]\n",
    "    unique = set(a)\n",
    "    if out:\n",
    "        print(f\"В послідовності {a} - {len(unique)} унікальних чисел\")"
   ]
  },
  {
   "cell_type": "code",
   "execution_count": 73,
   "id": "83014616",
   "metadata": {},
   "outputs": [
    {
     "name": "stdout",
     "output_type": "stream",
     "text": [
      "32.2 µs ± 6.71 µs per loop (mean ± std. dev. of 7 runs, 100 loops each)\n"
     ]
    }
   ],
   "source": [
    "%timeit -n 100 task_18(10, False)"
   ]
  },
  {
   "cell_type": "code",
   "execution_count": 74,
   "id": "3ea46077",
   "metadata": {},
   "outputs": [
    {
     "name": "stdout",
     "output_type": "stream",
     "text": [
      "73.8 µs ± 6.5 µs per loop (mean ± std. dev. of 7 runs, 100 loops each)\n"
     ]
    }
   ],
   "source": [
    "%timeit -n 100 task_18_py(10, False)"
   ]
  },
  {
   "cell_type": "code",
   "execution_count": 75,
   "id": "f36b5b27",
   "metadata": {},
   "outputs": [
    {
     "name": "stdout",
     "output_type": "stream",
     "text": [
      "26.2 µs ± 2.22 µs per loop (mean ± std. dev. of 7 runs, 100 loops each)\n"
     ]
    }
   ],
   "source": [
    "%timeit -n 100 task_18(50, False)"
   ]
  },
  {
   "cell_type": "code",
   "execution_count": 76,
   "id": "cb44779a",
   "metadata": {},
   "outputs": [
    {
     "name": "stdout",
     "output_type": "stream",
     "text": [
      "386 µs ± 35.4 µs per loop (mean ± std. dev. of 7 runs, 100 loops each)\n"
     ]
    }
   ],
   "source": [
    "%timeit -n 100 task_18_py(50, False)"
   ]
  },
  {
   "cell_type": "markdown",
   "id": "82ee66a5",
   "metadata": {},
   "source": [
    "# Частина 2"
   ]
  },
  {
   "cell_type": "code",
   "execution_count": 77,
   "id": "f7fc8b15",
   "metadata": {},
   "outputs": [],
   "source": [
    "def solve(matrix):\n",
    "    b = matrix[:, -1]\n",
    "    det = matrix[:, :-1]\n",
    "    dets = []\n",
    "    for i in range(matrix.shape[0]):\n",
    "        det_i = det.copy()\n",
    "        det_i[:, i] = b\n",
    "        dets.append(det_i)\n",
    "    det = np.linalg.det(det)\n",
    "    dets = [np.linalg.det(d) for d in dets]\n",
    "    solution = [d / det for d in dets]\n",
    "    return np.array(solution)\n",
    "\n",
    "matrix = [\n",
    "    [1, 5, 3, -4, 20],\n",
    "    [3, 1, -2, 0, 9],\n",
    "    [5, -7, 0, 10, -9],\n",
    "    [0, 3, -6, 0, 1]\n",
    "]\n",
    "matrix = np.array(matrix)"
   ]
  },
  {
   "cell_type": "code",
   "execution_count": 78,
   "id": "1e61d0d0",
   "metadata": {},
   "outputs": [
    {
     "name": "stdout",
     "output_type": "stream",
     "text": [
      "True\n"
     ]
    },
    {
     "data": {
      "text/plain": [
       "array([[ 0.00000000e+00,  3.33333333e-01,  4.44089210e-17,\n",
       "        -1.11111111e-01],\n",
       "       [ 2.70270270e-01, -2.70270270e-01,  1.08108108e-01,\n",
       "         2.25225225e-01],\n",
       "       [ 1.35135135e-01, -1.35135135e-01,  5.40540541e-02,\n",
       "        -5.40540541e-02],\n",
       "       [ 1.89189189e-01, -3.55855856e-01,  1.75675676e-01,\n",
       "         2.13213213e-01]])"
      ]
     },
     "execution_count": 78,
     "metadata": {},
     "output_type": "execute_result"
    }
   ],
   "source": [
    "print(np.allclose(solve(matrix), np.linalg.solve(matrix[:, :-1], matrix[:, -1])))\n",
    "inv = np.linalg.inv(matrix[:, :-1])\n",
    "inv"
   ]
  },
  {
   "cell_type": "markdown",
   "id": "8acdc384",
   "metadata": {},
   "source": [
    "# Частина 3"
   ]
  },
  {
   "cell_type": "code",
   "execution_count": 79,
   "id": "00328518",
   "metadata": {},
   "outputs": [],
   "source": [
    "def add_mat(mat1, mat2):\n",
    "    result = []\n",
    "    for i in range(len(mat1)):\n",
    "        row = []\n",
    "        for j in range(len(mat1[0])):\n",
    "            row.append(mat1[i][j] + mat2[i][j])\n",
    "        result.append(row)\n",
    "\n",
    "    return result\n",
    "\n",
    "def mult_mat(mat1, mat2):\n",
    "    result = []\n",
    "    for i in range(len(mat1)):\n",
    "        row = []\n",
    "        for j in range(len(mat2[0])):\n",
    "            sum = 0\n",
    "            for k in range(len(mat2)):\n",
    "                sum += mat1[i][k] * mat2[k][j]\n",
    "            row.append(sum)\n",
    "        result.append(row)\n",
    "\n",
    "    return result\n",
    "\n",
    "def mult_mat_const(mat, const):\n",
    "    return [[i * const for i in j] for j in mat]\n",
    "\n",
    "def solve_np(a, b):\n",
    "    return  np.matmul((a - np.matmul(b, b)), (2 * a + b))\n",
    "\n",
    "def solve_py(a, b):\n",
    "    return mult_mat(add_mat(a,mult_mat_const(mult_mat(b, b), -1)), add_mat(mult_mat_const(a,2), b))"
   ]
  },
  {
   "cell_type": "code",
   "execution_count": 80,
   "id": "f16cb1ff",
   "metadata": {},
   "outputs": [
    {
     "data": {
      "text/plain": [
       "True"
      ]
     },
     "execution_count": 80,
     "metadata": {},
     "output_type": "execute_result"
    }
   ],
   "source": [
    "A = [\n",
    "    [5, 2, 0],\n",
    "    [10, 4, 1],\n",
    "    [7, 3, 2]\n",
    "]\n",
    "B = [\n",
    "    [3, 6, -1],\n",
    "    [-1, -2, 0],\n",
    "    [2, 1, 3]\n",
    "]\n",
    "A_np, B_np = np.array(A), np.array(B)\n",
    "np.allclose(solve_py(A, B), solve_np(A_np, B_np))"
   ]
  },
  {
   "cell_type": "code",
   "execution_count": 81,
   "id": "f7382982",
   "metadata": {},
   "outputs": [
    {
     "data": {
      "text/plain": [
       "[[91, 64, 32], [257, 146, 1], [-322, -135, -51]]"
      ]
     },
     "execution_count": 81,
     "metadata": {},
     "output_type": "execute_result"
    }
   ],
   "source": [
    "solve_py(A, B)"
   ]
  },
  {
   "cell_type": "code",
   "execution_count": 82,
   "id": "47ae7fcd",
   "metadata": {},
   "outputs": [
    {
     "data": {
      "text/plain": [
       "array([[  91,   64,   32],\n",
       "       [ 257,  146,    1],\n",
       "       [-322, -135,  -51]])"
      ]
     },
     "execution_count": 82,
     "metadata": {},
     "output_type": "execute_result"
    }
   ],
   "source": [
    "solve_np(A_np, B_np)"
   ]
  },
  {
   "cell_type": "code",
   "execution_count": 83,
   "id": "4bd49fab",
   "metadata": {},
   "outputs": [
    {
     "name": "stdout",
     "output_type": "stream",
     "text": [
      "12.1 µs ± 1.13 µs per loop (mean ± std. dev. of 7 runs, 100 loops each)\n",
      "62.1 µs ± 3.19 µs per loop (mean ± std. dev. of 7 runs, 100 loops each)\n"
     ]
    }
   ],
   "source": [
    "%timeit -n 100 solve_np(A_np, B_np)\n",
    "%timeit -n 100 solve_py(A, B)"
   ]
  },
  {
   "cell_type": "code",
   "execution_count": null,
   "id": "a4b58f26",
   "metadata": {},
   "outputs": [],
   "source": []
  }
 ],
 "metadata": {
  "kernelspec": {
   "display_name": "Python 3 (ipykernel)",
   "language": "python",
   "name": "python3"
  },
  "language_info": {
   "codemirror_mode": {
    "name": "ipython",
    "version": 3
   },
   "file_extension": ".py",
   "mimetype": "text/x-python",
   "name": "python",
   "nbconvert_exporter": "python",
   "pygments_lexer": "ipython3",
   "version": "3.9.13"
  }
 },
 "nbformat": 4,
 "nbformat_minor": 5
}
