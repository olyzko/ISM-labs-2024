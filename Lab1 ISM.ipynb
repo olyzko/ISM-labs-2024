{
 "cells": [
  {
   "cell_type": "markdown",
   "id": "dd55aef4",
   "metadata": {},
   "source": [
    "# Йорданське Хашимітське Королівство\n",
    "(араб. <i>المملكة الأردنية الهاشمية</i>)"
   ]
  },
  {
   "cell_type": "markdown",
   "id": "8cc6430d",
   "metadata": {},
   "source": [
    "## Основна інформація\n",
    "* Столиця - Амман\n",
    "* Площа: <b>89 342 км²</b>\n",
    "* Населення: <b>10,171,480 чол.</b>\n",
    "    * Населення країни за останні 70 років виросло в 20 разів\n",
    "    * 98% населення складають араби, інші 2% - в основному черкеси, вірмени та чеченці\n",
    "* Король Абдалла II править країною з 1999 року"
   ]
  },
  {
   "cell_type": "markdown",
   "id": "72a587df",
   "metadata": {},
   "source": [
    "## Визначні місця"
   ]
  },
  {
   "cell_type": "markdown",
   "id": "2f615b23",
   "metadata": {},
   "source": [
    "<h3 style=\"color:orange;\">Петра</h3>\n",
    "Стародавнє місто та найпопулярніша історична пам'ятка Йорданії. В минулому столиця <a href=\"https://uk.wikipedia.org/wiki/%D0%86%D0%B4%D1%83%D0%BC%D0%B5%D1%8F\">Ідумеї</a> та <a href=\"https://uk.wikipedia.org/wiki/%D0%9D%D0%B0%D0%B1%D0%B0%D1%82%D0%B5%D0%B9%D1%81%D1%8C%D0%BA%D0%B5_%D1%86%D0%B0%D1%80%D1%81%D1%82%D0%B2%D0%BE\">Набатейського царства</a>, пізніше — важливе місто Римської імперії. 1985 року Петра була внесена до переліку Світової спадщини ЮНЕСКО, а в 2007 році була обрана одним з Семи нових чудес світу.\n",
    "<img src=\"https://upload.wikimedia.org/wikipedia/commons/thumb/6/62/Al_Khazneh_Petra_edit_2.jpg/800px-Al_Khazneh_Petra_edit_2.jpg\" alt=\"alternatetext\" style=\"width:300px;\">"
   ]
  },
  {
   "cell_type": "markdown",
   "id": "145c9461",
   "metadata": {},
   "source": [
    "### Ваді Рам\n",
    "Кам'яниста пустеля та ваді в Йорданії. Розташована в провінції Акаба за 60 км на схід від йорданського міста Акаби та ізраїльського Ейлату. Поверхня Ваді-Рам нерівномірна, з великою кількістю локальних каньйонів, впадин та височин. Деінде ландшафт ваді переходить у напівпустелю, з окремими сухими деревами та чагарниками.\n",
    "\n",
    "У Ваді-Рам, яка відома своїми «позаземними» та «казковими» пейзажами, знімали такі фільми, як «Лоуренс Аравійський», «Трансформери», «Червона планета», «Останні дні на Марсі», «Марсіянин», «Бунтар Один. Зоряні Війни. Історія», «Алладін», «Зоряні війни: Скайвокер. Сходження» та багато інших\n",
    "<img src=\"images/Wadi_Rum.jpg\" alt=\"alternatetext\" style=\"width:300px;\">"
   ]
  },
  {
   "cell_type": "markdown",
   "id": "2bfd2c32",
   "metadata": {},
   "source": [
    "## Найбільші міста Йорданії\n",
    "|Назва|Населення|Провінція|\n",
    "|-|-|-|\n",
    "|Амман|4,061,150|Амман|\n",
    "|Ез-Зарка|735,744|Ез-Зарка|\n",
    "|Ірбід|582,276|Ірбід|\n",
    "|Ер-Руссайфа|547,442|Ез-Зарка|\n",
    "|Сахаб|196,260|Амман|"
   ]
  },
  {
   "cell_type": "markdown",
   "id": "860b5d02",
   "metadata": {},
   "source": [
    "<div style=\"border: 5px outset red; width: 10%\">\n",
    "    <h2>Прапор</h2>\n",
    "</div>"
   ]
  },
  {
   "cell_type": "code",
   "execution_count": 6,
   "id": "c9e62d26",
   "metadata": {},
   "outputs": [
    {
     "data": {
      "text/html": [
       "<svg width=\"450\" height=\"240\">\n",
       "   <rect width=\"450\" height=\"80\" style=\"fill:rgb(0,0,0)\" />\n",
       "    <rect y=\"80\" width=\"450\" height=\"80\" style=\"fill:rgb(255,255,255)\" />\n",
       "    <rect y=\"160\" width=\"450\" height=\"80\" style=\"fill:rgb(50,150,50)\" />\n",
       "    <polygon points=\"0,0 220,120 0,240\" style=\"fill:rgb(190,50,50)\" />\n",
       "    <polygon points=\"85,95 90,107 105,100 98,115 110,125 95,127 100,145 85,135 70,145 75,127 60,125 72,115 65,100 80,107\"style=\"fill:rgb(255,255,255)\" />\n",
       "</svg>\n"
      ],
      "text/plain": [
       "<IPython.core.display.HTML object>"
      ]
     },
     "metadata": {},
     "output_type": "display_data"
    }
   ],
   "source": [
    "%%html\n",
    "<svg width=\"450\" height=\"240\">\n",
    "   <rect width=\"450\" height=\"80\" style=\"fill:rgb(0,0,0)\" />\n",
    "    <rect y=\"80\" width=\"450\" height=\"80\" style=\"fill:rgb(255,255,255)\" />\n",
    "    <rect y=\"160\" width=\"450\" height=\"80\" style=\"fill:rgb(50,150,50)\" />\n",
    "    <polygon points=\"0,0 220,120 0,240\" style=\"fill:rgb(190,50,50)\" />\n",
    "    <polygon points=\"85,95 90,107 105,100 98,115 110,125 95,127 100,145 85,135 70,145 75,127 60,125 72,115 65,100 80,107\"style=\"fill:rgb(255,255,255)\" />\n",
    "</svg>"
   ]
  },
  {
   "cell_type": "markdown",
   "id": "024dfcd7",
   "metadata": {},
   "source": [
    "# Завдання 2"
   ]
  },
  {
   "cell_type": "code",
   "execution_count": 1,
   "id": "64a5d575",
   "metadata": {},
   "outputs": [],
   "source": [
    "import math\n",
    "\n",
    "def is_prime(n):\n",
    "    if(n > 1):\n",
    "        for i in range(2, int(math.sqrt(n)) + 1):\n",
    "            if (n % i == 0):\n",
    "                return False\n",
    "        return True\n",
    "    return False\n",
    "\n",
    "def task_6():\n",
    "    s = input()\n",
    "    values = [int(x) for x in s.split(' ')]\n",
    "    a, b = values[:2]\n",
    "    return [i for i in range(a, b + 1) if is_prime(i)]"
   ]
  },
  {
   "cell_type": "code",
   "execution_count": 2,
   "id": "a1618ecb",
   "metadata": {},
   "outputs": [
    {
     "name": "stdout",
     "output_type": "stream",
     "text": [
      "4 77\n"
     ]
    },
    {
     "data": {
      "text/plain": [
       "[5, 7, 11, 13, 17, 19, 23, 29, 31, 37, 41, 43, 47, 53, 59, 61, 67, 71, 73]"
      ]
     },
     "execution_count": 2,
     "metadata": {},
     "output_type": "execute_result"
    }
   ],
   "source": [
    "task_6()"
   ]
  },
  {
   "cell_type": "code",
   "execution_count": null,
   "id": "9798fd80",
   "metadata": {},
   "outputs": [],
   "source": []
  }
 ],
 "metadata": {
  "kernelspec": {
   "display_name": "Python 3 (ipykernel)",
   "language": "python",
   "name": "python3"
  },
  "language_info": {
   "codemirror_mode": {
    "name": "ipython",
    "version": 3
   },
   "file_extension": ".py",
   "mimetype": "text/x-python",
   "name": "python",
   "nbconvert_exporter": "python",
   "pygments_lexer": "ipython3",
   "version": "3.9.13"
  }
 },
 "nbformat": 4,
 "nbformat_minor": 5
}
